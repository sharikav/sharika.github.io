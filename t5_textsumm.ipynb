{
  "nbformat": 4,
  "nbformat_minor": 0,
  "metadata": {
    "colab": {
      "name": "t5_textsumm.ipynb",
      "provenance": [],
      "collapsed_sections": [],
      "include_colab_link": true
    },
    "kernelspec": {
      "name": "python3",
      "display_name": "Python 3"
    },
    "accelerator": "GPU",
    "widgets": {
      "application/vnd.jupyter.widget-state+json": {
        "e287f46b8d4c4c48a79f04890162aa56": {
          "model_module": "@jupyter-widgets/controls",
          "model_name": "HBoxModel",
          "state": {
            "_view_name": "HBoxView",
            "_dom_classes": [],
            "_model_name": "HBoxModel",
            "_view_module": "@jupyter-widgets/controls",
            "_model_module_version": "1.5.0",
            "_view_count": null,
            "_view_module_version": "1.5.0",
            "box_style": "",
            "layout": "IPY_MODEL_4c15dad219c44514aa87bebe4aab2808",
            "_model_module": "@jupyter-widgets/controls",
            "children": [
              "IPY_MODEL_b4bba42422744fe9b79f3de828a399ef",
              "IPY_MODEL_649a74c5cbef488d9529574eb7cb8d0d"
            ]
          }
        },
        "4c15dad219c44514aa87bebe4aab2808": {
          "model_module": "@jupyter-widgets/base",
          "model_name": "LayoutModel",
          "state": {
            "_view_name": "LayoutView",
            "grid_template_rows": null,
            "right": null,
            "justify_content": null,
            "_view_module": "@jupyter-widgets/base",
            "overflow": null,
            "_model_module_version": "1.2.0",
            "_view_count": null,
            "flex_flow": null,
            "width": null,
            "min_width": null,
            "border": null,
            "align_items": null,
            "bottom": null,
            "_model_module": "@jupyter-widgets/base",
            "top": null,
            "grid_column": null,
            "overflow_y": null,
            "overflow_x": null,
            "grid_auto_flow": null,
            "grid_area": null,
            "grid_template_columns": null,
            "flex": null,
            "_model_name": "LayoutModel",
            "justify_items": null,
            "grid_row": null,
            "max_height": null,
            "align_content": null,
            "visibility": null,
            "align_self": null,
            "height": null,
            "min_height": null,
            "padding": null,
            "grid_auto_rows": null,
            "grid_gap": null,
            "max_width": null,
            "order": null,
            "_view_module_version": "1.2.0",
            "grid_template_areas": null,
            "object_position": null,
            "object_fit": null,
            "grid_auto_columns": null,
            "margin": null,
            "display": null,
            "left": null
          }
        },
        "b4bba42422744fe9b79f3de828a399ef": {
          "model_module": "@jupyter-widgets/controls",
          "model_name": "FloatProgressModel",
          "state": {
            "_view_name": "ProgressView",
            "style": "IPY_MODEL_e5ba1796fa864e58a79b1c59881b818b",
            "_dom_classes": [],
            "description": "Downloading: 100%",
            "_model_name": "FloatProgressModel",
            "bar_style": "success",
            "max": 1197,
            "_view_module": "@jupyter-widgets/controls",
            "_model_module_version": "1.5.0",
            "value": 1197,
            "_view_count": null,
            "_view_module_version": "1.5.0",
            "orientation": "horizontal",
            "min": 0,
            "description_tooltip": null,
            "_model_module": "@jupyter-widgets/controls",
            "layout": "IPY_MODEL_af5a756130234414b45e312a1334fa77"
          }
        },
        "649a74c5cbef488d9529574eb7cb8d0d": {
          "model_module": "@jupyter-widgets/controls",
          "model_name": "HTMLModel",
          "state": {
            "_view_name": "HTMLView",
            "style": "IPY_MODEL_aa53750e27214e02ace668c977f3448a",
            "_dom_classes": [],
            "description": "",
            "_model_name": "HTMLModel",
            "placeholder": "​",
            "_view_module": "@jupyter-widgets/controls",
            "_model_module_version": "1.5.0",
            "value": " 1.20k/1.20k [00:20&lt;00:00, 57.6B/s]",
            "_view_count": null,
            "_view_module_version": "1.5.0",
            "description_tooltip": null,
            "_model_module": "@jupyter-widgets/controls",
            "layout": "IPY_MODEL_ea56988af3514d30ad6fe00698b36437"
          }
        },
        "e5ba1796fa864e58a79b1c59881b818b": {
          "model_module": "@jupyter-widgets/controls",
          "model_name": "ProgressStyleModel",
          "state": {
            "_view_name": "StyleView",
            "_model_name": "ProgressStyleModel",
            "description_width": "initial",
            "_view_module": "@jupyter-widgets/base",
            "_model_module_version": "1.5.0",
            "_view_count": null,
            "_view_module_version": "1.2.0",
            "bar_color": null,
            "_model_module": "@jupyter-widgets/controls"
          }
        },
        "af5a756130234414b45e312a1334fa77": {
          "model_module": "@jupyter-widgets/base",
          "model_name": "LayoutModel",
          "state": {
            "_view_name": "LayoutView",
            "grid_template_rows": null,
            "right": null,
            "justify_content": null,
            "_view_module": "@jupyter-widgets/base",
            "overflow": null,
            "_model_module_version": "1.2.0",
            "_view_count": null,
            "flex_flow": null,
            "width": null,
            "min_width": null,
            "border": null,
            "align_items": null,
            "bottom": null,
            "_model_module": "@jupyter-widgets/base",
            "top": null,
            "grid_column": null,
            "overflow_y": null,
            "overflow_x": null,
            "grid_auto_flow": null,
            "grid_area": null,
            "grid_template_columns": null,
            "flex": null,
            "_model_name": "LayoutModel",
            "justify_items": null,
            "grid_row": null,
            "max_height": null,
            "align_content": null,
            "visibility": null,
            "align_self": null,
            "height": null,
            "min_height": null,
            "padding": null,
            "grid_auto_rows": null,
            "grid_gap": null,
            "max_width": null,
            "order": null,
            "_view_module_version": "1.2.0",
            "grid_template_areas": null,
            "object_position": null,
            "object_fit": null,
            "grid_auto_columns": null,
            "margin": null,
            "display": null,
            "left": null
          }
        },
        "aa53750e27214e02ace668c977f3448a": {
          "model_module": "@jupyter-widgets/controls",
          "model_name": "DescriptionStyleModel",
          "state": {
            "_view_name": "StyleView",
            "_model_name": "DescriptionStyleModel",
            "description_width": "",
            "_view_module": "@jupyter-widgets/base",
            "_model_module_version": "1.5.0",
            "_view_count": null,
            "_view_module_version": "1.2.0",
            "_model_module": "@jupyter-widgets/controls"
          }
        },
        "ea56988af3514d30ad6fe00698b36437": {
          "model_module": "@jupyter-widgets/base",
          "model_name": "LayoutModel",
          "state": {
            "_view_name": "LayoutView",
            "grid_template_rows": null,
            "right": null,
            "justify_content": null,
            "_view_module": "@jupyter-widgets/base",
            "overflow": null,
            "_model_module_version": "1.2.0",
            "_view_count": null,
            "flex_flow": null,
            "width": null,
            "min_width": null,
            "border": null,
            "align_items": null,
            "bottom": null,
            "_model_module": "@jupyter-widgets/base",
            "top": null,
            "grid_column": null,
            "overflow_y": null,
            "overflow_x": null,
            "grid_auto_flow": null,
            "grid_area": null,
            "grid_template_columns": null,
            "flex": null,
            "_model_name": "LayoutModel",
            "justify_items": null,
            "grid_row": null,
            "max_height": null,
            "align_content": null,
            "visibility": null,
            "align_self": null,
            "height": null,
            "min_height": null,
            "padding": null,
            "grid_auto_rows": null,
            "grid_gap": null,
            "max_width": null,
            "order": null,
            "_view_module_version": "1.2.0",
            "grid_template_areas": null,
            "object_position": null,
            "object_fit": null,
            "grid_auto_columns": null,
            "margin": null,
            "display": null,
            "left": null
          }
        },
        "689c8b2263674e53bdb8481652efcdc7": {
          "model_module": "@jupyter-widgets/controls",
          "model_name": "HBoxModel",
          "state": {
            "_view_name": "HBoxView",
            "_dom_classes": [],
            "_model_name": "HBoxModel",
            "_view_module": "@jupyter-widgets/controls",
            "_model_module_version": "1.5.0",
            "_view_count": null,
            "_view_module_version": "1.5.0",
            "box_style": "",
            "layout": "IPY_MODEL_4582492910494789ba63697937af8d27",
            "_model_module": "@jupyter-widgets/controls",
            "children": [
              "IPY_MODEL_236bff235af148188f6f2a75b9cca524",
              "IPY_MODEL_815d5ea09ca04e53a47788910404b47a"
            ]
          }
        },
        "4582492910494789ba63697937af8d27": {
          "model_module": "@jupyter-widgets/base",
          "model_name": "LayoutModel",
          "state": {
            "_view_name": "LayoutView",
            "grid_template_rows": null,
            "right": null,
            "justify_content": null,
            "_view_module": "@jupyter-widgets/base",
            "overflow": null,
            "_model_module_version": "1.2.0",
            "_view_count": null,
            "flex_flow": null,
            "width": null,
            "min_width": null,
            "border": null,
            "align_items": null,
            "bottom": null,
            "_model_module": "@jupyter-widgets/base",
            "top": null,
            "grid_column": null,
            "overflow_y": null,
            "overflow_x": null,
            "grid_auto_flow": null,
            "grid_area": null,
            "grid_template_columns": null,
            "flex": null,
            "_model_name": "LayoutModel",
            "justify_items": null,
            "grid_row": null,
            "max_height": null,
            "align_content": null,
            "visibility": null,
            "align_self": null,
            "height": null,
            "min_height": null,
            "padding": null,
            "grid_auto_rows": null,
            "grid_gap": null,
            "max_width": null,
            "order": null,
            "_view_module_version": "1.2.0",
            "grid_template_areas": null,
            "object_position": null,
            "object_fit": null,
            "grid_auto_columns": null,
            "margin": null,
            "display": null,
            "left": null
          }
        },
        "236bff235af148188f6f2a75b9cca524": {
          "model_module": "@jupyter-widgets/controls",
          "model_name": "FloatProgressModel",
          "state": {
            "_view_name": "ProgressView",
            "style": "IPY_MODEL_9dccc0b9e9e4416e8a9bc6614bbf3d57",
            "_dom_classes": [],
            "description": "Downloading: 100%",
            "_model_name": "FloatProgressModel",
            "bar_style": "success",
            "max": 242065649,
            "_view_module": "@jupyter-widgets/controls",
            "_model_module_version": "1.5.0",
            "value": 242065649,
            "_view_count": null,
            "_view_module_version": "1.5.0",
            "orientation": "horizontal",
            "min": 0,
            "description_tooltip": null,
            "_model_module": "@jupyter-widgets/controls",
            "layout": "IPY_MODEL_e9d8e4d877794bfe99f924048182ce2e"
          }
        },
        "815d5ea09ca04e53a47788910404b47a": {
          "model_module": "@jupyter-widgets/controls",
          "model_name": "HTMLModel",
          "state": {
            "_view_name": "HTMLView",
            "style": "IPY_MODEL_77dcd8209a2d42c583b5a5a8fbb69f64",
            "_dom_classes": [],
            "description": "",
            "_model_name": "HTMLModel",
            "placeholder": "​",
            "_view_module": "@jupyter-widgets/controls",
            "_model_module_version": "1.5.0",
            "value": " 242M/242M [00:20&lt;00:00, 11.8MB/s]",
            "_view_count": null,
            "_view_module_version": "1.5.0",
            "description_tooltip": null,
            "_model_module": "@jupyter-widgets/controls",
            "layout": "IPY_MODEL_c279a2199c2647c4bc29f1166c4344f9"
          }
        },
        "9dccc0b9e9e4416e8a9bc6614bbf3d57": {
          "model_module": "@jupyter-widgets/controls",
          "model_name": "ProgressStyleModel",
          "state": {
            "_view_name": "StyleView",
            "_model_name": "ProgressStyleModel",
            "description_width": "initial",
            "_view_module": "@jupyter-widgets/base",
            "_model_module_version": "1.5.0",
            "_view_count": null,
            "_view_module_version": "1.2.0",
            "bar_color": null,
            "_model_module": "@jupyter-widgets/controls"
          }
        },
        "e9d8e4d877794bfe99f924048182ce2e": {
          "model_module": "@jupyter-widgets/base",
          "model_name": "LayoutModel",
          "state": {
            "_view_name": "LayoutView",
            "grid_template_rows": null,
            "right": null,
            "justify_content": null,
            "_view_module": "@jupyter-widgets/base",
            "overflow": null,
            "_model_module_version": "1.2.0",
            "_view_count": null,
            "flex_flow": null,
            "width": null,
            "min_width": null,
            "border": null,
            "align_items": null,
            "bottom": null,
            "_model_module": "@jupyter-widgets/base",
            "top": null,
            "grid_column": null,
            "overflow_y": null,
            "overflow_x": null,
            "grid_auto_flow": null,
            "grid_area": null,
            "grid_template_columns": null,
            "flex": null,
            "_model_name": "LayoutModel",
            "justify_items": null,
            "grid_row": null,
            "max_height": null,
            "align_content": null,
            "visibility": null,
            "align_self": null,
            "height": null,
            "min_height": null,
            "padding": null,
            "grid_auto_rows": null,
            "grid_gap": null,
            "max_width": null,
            "order": null,
            "_view_module_version": "1.2.0",
            "grid_template_areas": null,
            "object_position": null,
            "object_fit": null,
            "grid_auto_columns": null,
            "margin": null,
            "display": null,
            "left": null
          }
        },
        "77dcd8209a2d42c583b5a5a8fbb69f64": {
          "model_module": "@jupyter-widgets/controls",
          "model_name": "DescriptionStyleModel",
          "state": {
            "_view_name": "StyleView",
            "_model_name": "DescriptionStyleModel",
            "description_width": "",
            "_view_module": "@jupyter-widgets/base",
            "_model_module_version": "1.5.0",
            "_view_count": null,
            "_view_module_version": "1.2.0",
            "_model_module": "@jupyter-widgets/controls"
          }
        },
        "c279a2199c2647c4bc29f1166c4344f9": {
          "model_module": "@jupyter-widgets/base",
          "model_name": "LayoutModel",
          "state": {
            "_view_name": "LayoutView",
            "grid_template_rows": null,
            "right": null,
            "justify_content": null,
            "_view_module": "@jupyter-widgets/base",
            "overflow": null,
            "_model_module_version": "1.2.0",
            "_view_count": null,
            "flex_flow": null,
            "width": null,
            "min_width": null,
            "border": null,
            "align_items": null,
            "bottom": null,
            "_model_module": "@jupyter-widgets/base",
            "top": null,
            "grid_column": null,
            "overflow_y": null,
            "overflow_x": null,
            "grid_auto_flow": null,
            "grid_area": null,
            "grid_template_columns": null,
            "flex": null,
            "_model_name": "LayoutModel",
            "justify_items": null,
            "grid_row": null,
            "max_height": null,
            "align_content": null,
            "visibility": null,
            "align_self": null,
            "height": null,
            "min_height": null,
            "padding": null,
            "grid_auto_rows": null,
            "grid_gap": null,
            "max_width": null,
            "order": null,
            "_view_module_version": "1.2.0",
            "grid_template_areas": null,
            "object_position": null,
            "object_fit": null,
            "grid_auto_columns": null,
            "margin": null,
            "display": null,
            "left": null
          }
        },
        "82eec7835790463cb3429ee2dc21280d": {
          "model_module": "@jupyter-widgets/controls",
          "model_name": "HBoxModel",
          "state": {
            "_view_name": "HBoxView",
            "_dom_classes": [],
            "_model_name": "HBoxModel",
            "_view_module": "@jupyter-widgets/controls",
            "_model_module_version": "1.5.0",
            "_view_count": null,
            "_view_module_version": "1.5.0",
            "box_style": "",
            "layout": "IPY_MODEL_54c78dd6911544b68ffd4a01bf72b33a",
            "_model_module": "@jupyter-widgets/controls",
            "children": [
              "IPY_MODEL_66ea7c8200f448979b9b723954a9e03d",
              "IPY_MODEL_80b86d80f26d476c9e17e3af3b0456de"
            ]
          }
        },
        "54c78dd6911544b68ffd4a01bf72b33a": {
          "model_module": "@jupyter-widgets/base",
          "model_name": "LayoutModel",
          "state": {
            "_view_name": "LayoutView",
            "grid_template_rows": null,
            "right": null,
            "justify_content": null,
            "_view_module": "@jupyter-widgets/base",
            "overflow": null,
            "_model_module_version": "1.2.0",
            "_view_count": null,
            "flex_flow": null,
            "width": null,
            "min_width": null,
            "border": null,
            "align_items": null,
            "bottom": null,
            "_model_module": "@jupyter-widgets/base",
            "top": null,
            "grid_column": null,
            "overflow_y": null,
            "overflow_x": null,
            "grid_auto_flow": null,
            "grid_area": null,
            "grid_template_columns": null,
            "flex": null,
            "_model_name": "LayoutModel",
            "justify_items": null,
            "grid_row": null,
            "max_height": null,
            "align_content": null,
            "visibility": null,
            "align_self": null,
            "height": null,
            "min_height": null,
            "padding": null,
            "grid_auto_rows": null,
            "grid_gap": null,
            "max_width": null,
            "order": null,
            "_view_module_version": "1.2.0",
            "grid_template_areas": null,
            "object_position": null,
            "object_fit": null,
            "grid_auto_columns": null,
            "margin": null,
            "display": null,
            "left": null
          }
        },
        "66ea7c8200f448979b9b723954a9e03d": {
          "model_module": "@jupyter-widgets/controls",
          "model_name": "FloatProgressModel",
          "state": {
            "_view_name": "ProgressView",
            "style": "IPY_MODEL_7c66742d98fa4f32806272d6615e195d",
            "_dom_classes": [],
            "description": "Downloading: 100%",
            "_model_name": "FloatProgressModel",
            "bar_style": "success",
            "max": 791656,
            "_view_module": "@jupyter-widgets/controls",
            "_model_module_version": "1.5.0",
            "value": 791656,
            "_view_count": null,
            "_view_module_version": "1.5.0",
            "orientation": "horizontal",
            "min": 0,
            "description_tooltip": null,
            "_model_module": "@jupyter-widgets/controls",
            "layout": "IPY_MODEL_9f50d4e68cfc48deb07e5c12b9b5dc85"
          }
        },
        "80b86d80f26d476c9e17e3af3b0456de": {
          "model_module": "@jupyter-widgets/controls",
          "model_name": "HTMLModel",
          "state": {
            "_view_name": "HTMLView",
            "style": "IPY_MODEL_4009c69c977142a2a264def7a58fbc26",
            "_dom_classes": [],
            "description": "",
            "_model_name": "HTMLModel",
            "placeholder": "​",
            "_view_module": "@jupyter-widgets/controls",
            "_model_module_version": "1.5.0",
            "value": " 792k/792k [00:00&lt;00:00, 2.13MB/s]",
            "_view_count": null,
            "_view_module_version": "1.5.0",
            "description_tooltip": null,
            "_model_module": "@jupyter-widgets/controls",
            "layout": "IPY_MODEL_c0d60e9d53764be6a1d7d8a4181090ce"
          }
        },
        "7c66742d98fa4f32806272d6615e195d": {
          "model_module": "@jupyter-widgets/controls",
          "model_name": "ProgressStyleModel",
          "state": {
            "_view_name": "StyleView",
            "_model_name": "ProgressStyleModel",
            "description_width": "initial",
            "_view_module": "@jupyter-widgets/base",
            "_model_module_version": "1.5.0",
            "_view_count": null,
            "_view_module_version": "1.2.0",
            "bar_color": null,
            "_model_module": "@jupyter-widgets/controls"
          }
        },
        "9f50d4e68cfc48deb07e5c12b9b5dc85": {
          "model_module": "@jupyter-widgets/base",
          "model_name": "LayoutModel",
          "state": {
            "_view_name": "LayoutView",
            "grid_template_rows": null,
            "right": null,
            "justify_content": null,
            "_view_module": "@jupyter-widgets/base",
            "overflow": null,
            "_model_module_version": "1.2.0",
            "_view_count": null,
            "flex_flow": null,
            "width": null,
            "min_width": null,
            "border": null,
            "align_items": null,
            "bottom": null,
            "_model_module": "@jupyter-widgets/base",
            "top": null,
            "grid_column": null,
            "overflow_y": null,
            "overflow_x": null,
            "grid_auto_flow": null,
            "grid_area": null,
            "grid_template_columns": null,
            "flex": null,
            "_model_name": "LayoutModel",
            "justify_items": null,
            "grid_row": null,
            "max_height": null,
            "align_content": null,
            "visibility": null,
            "align_self": null,
            "height": null,
            "min_height": null,
            "padding": null,
            "grid_auto_rows": null,
            "grid_gap": null,
            "max_width": null,
            "order": null,
            "_view_module_version": "1.2.0",
            "grid_template_areas": null,
            "object_position": null,
            "object_fit": null,
            "grid_auto_columns": null,
            "margin": null,
            "display": null,
            "left": null
          }
        },
        "4009c69c977142a2a264def7a58fbc26": {
          "model_module": "@jupyter-widgets/controls",
          "model_name": "DescriptionStyleModel",
          "state": {
            "_view_name": "StyleView",
            "_model_name": "DescriptionStyleModel",
            "description_width": "",
            "_view_module": "@jupyter-widgets/base",
            "_model_module_version": "1.5.0",
            "_view_count": null,
            "_view_module_version": "1.2.0",
            "_model_module": "@jupyter-widgets/controls"
          }
        },
        "c0d60e9d53764be6a1d7d8a4181090ce": {
          "model_module": "@jupyter-widgets/base",
          "model_name": "LayoutModel",
          "state": {
            "_view_name": "LayoutView",
            "grid_template_rows": null,
            "right": null,
            "justify_content": null,
            "_view_module": "@jupyter-widgets/base",
            "overflow": null,
            "_model_module_version": "1.2.0",
            "_view_count": null,
            "flex_flow": null,
            "width": null,
            "min_width": null,
            "border": null,
            "align_items": null,
            "bottom": null,
            "_model_module": "@jupyter-widgets/base",
            "top": null,
            "grid_column": null,
            "overflow_y": null,
            "overflow_x": null,
            "grid_auto_flow": null,
            "grid_area": null,
            "grid_template_columns": null,
            "flex": null,
            "_model_name": "LayoutModel",
            "justify_items": null,
            "grid_row": null,
            "max_height": null,
            "align_content": null,
            "visibility": null,
            "align_self": null,
            "height": null,
            "min_height": null,
            "padding": null,
            "grid_auto_rows": null,
            "grid_gap": null,
            "max_width": null,
            "order": null,
            "_view_module_version": "1.2.0",
            "grid_template_areas": null,
            "object_position": null,
            "object_fit": null,
            "grid_auto_columns": null,
            "margin": null,
            "display": null,
            "left": null
          }
        }
      }
    }
  },
  "cells": [
    {
      "cell_type": "markdown",
      "metadata": {
        "id": "view-in-github",
        "colab_type": "text"
      },
      "source": [
        "<a href=\"https://colab.research.google.com/github/sharikav/t5_summ/blob/main/t5_textsumm.ipynb\" target=\"_parent\"><img src=\"https://colab.research.google.com/assets/colab-badge.svg\" alt=\"Open In Colab\"/></a>"
      ]
    },
    {
      "cell_type": "code",
      "metadata": {
        "colab": {
          "base_uri": "https://localhost:8080/"
        },
        "id": "OmtJB35bfUNw",
        "outputId": "31d4d177-904a-4835-e193-b48bbd95b43d"
      },
      "source": [
        "!pip install transformers==2.8.0\n",
        "!pip install torch==1.4.0"
      ],
      "execution_count": null,
      "outputs": [
        {
          "output_type": "stream",
          "text": [
            "Collecting transformers==2.8.0\n",
            "\u001b[?25l  Downloading https://files.pythonhosted.org/packages/a3/78/92cedda05552398352ed9784908b834ee32a0bd071a9b32de287327370b7/transformers-2.8.0-py3-none-any.whl (563kB)\n",
            "\u001b[K     |████████████████████████████████| 573kB 16.5MB/s \n",
            "\u001b[?25hCollecting sacremoses\n",
            "\u001b[?25l  Downloading https://files.pythonhosted.org/packages/7d/34/09d19aff26edcc8eb2a01bed8e98f13a1537005d31e95233fd48216eed10/sacremoses-0.0.43.tar.gz (883kB)\n",
            "\u001b[K     |████████████████████████████████| 890kB 48.5MB/s \n",
            "\u001b[?25hCollecting boto3\n",
            "\u001b[?25l  Downloading https://files.pythonhosted.org/packages/b7/ae/09dd9c87e21973c00aea9a73e9862abf755c744d1f47e146bc5b8e08b6c2/boto3-1.17.20-py2.py3-none-any.whl (130kB)\n",
            "\u001b[K     |████████████████████████████████| 133kB 50.8MB/s \n",
            "\u001b[?25hRequirement already satisfied: tqdm>=4.27 in /usr/local/lib/python3.7/dist-packages (from transformers==2.8.0) (4.41.1)\n",
            "Collecting tokenizers==0.5.2\n",
            "\u001b[?25l  Downloading https://files.pythonhosted.org/packages/d6/e3/5e49e9a83fb605aaa34a1c1173e607302fecae529428c28696fb18f1c2c9/tokenizers-0.5.2-cp37-cp37m-manylinux1_x86_64.whl (5.6MB)\n",
            "\u001b[K     |████████████████████████████████| 5.6MB 55.5MB/s \n",
            "\u001b[?25hRequirement already satisfied: filelock in /usr/local/lib/python3.7/dist-packages (from transformers==2.8.0) (3.0.12)\n",
            "Collecting sentencepiece\n",
            "\u001b[?25l  Downloading https://files.pythonhosted.org/packages/f5/99/e0808cb947ba10f575839c43e8fafc9cc44e4a7a2c8f79c60db48220a577/sentencepiece-0.1.95-cp37-cp37m-manylinux2014_x86_64.whl (1.2MB)\n",
            "\u001b[K     |████████████████████████████████| 1.2MB 50.2MB/s \n",
            "\u001b[?25hRequirement already satisfied: numpy in /usr/local/lib/python3.7/dist-packages (from transformers==2.8.0) (1.19.5)\n",
            "Requirement already satisfied: regex!=2019.12.17 in /usr/local/lib/python3.7/dist-packages (from transformers==2.8.0) (2019.12.20)\n",
            "Requirement already satisfied: requests in /usr/local/lib/python3.7/dist-packages (from transformers==2.8.0) (2.23.0)\n",
            "Requirement already satisfied: six in /usr/local/lib/python3.7/dist-packages (from sacremoses->transformers==2.8.0) (1.15.0)\n",
            "Requirement already satisfied: click in /usr/local/lib/python3.7/dist-packages (from sacremoses->transformers==2.8.0) (7.1.2)\n",
            "Requirement already satisfied: joblib in /usr/local/lib/python3.7/dist-packages (from sacremoses->transformers==2.8.0) (1.0.1)\n",
            "Collecting jmespath<1.0.0,>=0.7.1\n",
            "  Downloading https://files.pythonhosted.org/packages/07/cb/5f001272b6faeb23c1c9e0acc04d48eaaf5c862c17709d20e3469c6e0139/jmespath-0.10.0-py2.py3-none-any.whl\n",
            "Collecting botocore<1.21.0,>=1.20.20\n",
            "\u001b[?25l  Downloading https://files.pythonhosted.org/packages/e4/c8/9336724456f158918f8101a9889e8dd6f709494e88820b99d8c410008b7c/botocore-1.20.20-py2.py3-none-any.whl (7.3MB)\n",
            "\u001b[K     |████████████████████████████████| 7.3MB 434kB/s \n",
            "\u001b[?25hCollecting s3transfer<0.4.0,>=0.3.0\n",
            "\u001b[?25l  Downloading https://files.pythonhosted.org/packages/ea/43/4b4a1b26eb03a429a4c37ca7fdf369d938bd60018fc194e94b8379b0c77c/s3transfer-0.3.4-py2.py3-none-any.whl (69kB)\n",
            "\u001b[K     |████████████████████████████████| 71kB 535kB/s \n",
            "\u001b[?25hRequirement already satisfied: chardet<4,>=3.0.2 in /usr/local/lib/python3.7/dist-packages (from requests->transformers==2.8.0) (3.0.4)\n",
            "Requirement already satisfied: certifi>=2017.4.17 in /usr/local/lib/python3.7/dist-packages (from requests->transformers==2.8.0) (2020.12.5)\n",
            "Requirement already satisfied: urllib3!=1.25.0,!=1.25.1,<1.26,>=1.21.1 in /usr/local/lib/python3.7/dist-packages (from requests->transformers==2.8.0) (1.24.3)\n",
            "Requirement already satisfied: idna<3,>=2.5 in /usr/local/lib/python3.7/dist-packages (from requests->transformers==2.8.0) (2.10)\n",
            "Requirement already satisfied: python-dateutil<3.0.0,>=2.1 in /usr/local/lib/python3.7/dist-packages (from botocore<1.21.0,>=1.20.20->boto3->transformers==2.8.0) (2.8.1)\n",
            "Building wheels for collected packages: sacremoses\n",
            "  Building wheel for sacremoses (setup.py) ... \u001b[?25l\u001b[?25hdone\n",
            "  Created wheel for sacremoses: filename=sacremoses-0.0.43-cp37-none-any.whl size=893262 sha256=2ffe5346751ac25329a6f9d84f676602e7432e84e18e12e0b617dec88029c809\n",
            "  Stored in directory: /root/.cache/pip/wheels/29/3c/fd/7ce5c3f0666dab31a50123635e6fb5e19ceb42ce38d4e58f45\n",
            "Successfully built sacremoses\n",
            "\u001b[31mERROR: botocore 1.20.20 has requirement urllib3<1.27,>=1.25.4, but you'll have urllib3 1.24.3 which is incompatible.\u001b[0m\n",
            "Installing collected packages: sacremoses, jmespath, botocore, s3transfer, boto3, tokenizers, sentencepiece, transformers\n",
            "Successfully installed boto3-1.17.20 botocore-1.20.20 jmespath-0.10.0 s3transfer-0.3.4 sacremoses-0.0.43 sentencepiece-0.1.95 tokenizers-0.5.2 transformers-2.8.0\n",
            "Collecting torch==1.4.0\n",
            "\u001b[?25l  Downloading https://files.pythonhosted.org/packages/1a/3b/fa92ece1e58a6a48ec598bab327f39d69808133e5b2fb33002ca754e381e/torch-1.4.0-cp37-cp37m-manylinux1_x86_64.whl (753.4MB)\n",
            "\u001b[K     |████████████████████████████████| 753.4MB 23kB/s \n",
            "\u001b[31mERROR: torchvision 0.8.2+cu101 has requirement torch==1.7.1, but you'll have torch 1.4.0 which is incompatible.\u001b[0m\n",
            "\u001b[?25hInstalling collected packages: torch\n",
            "  Found existing installation: torch 1.7.1+cu101\n",
            "    Uninstalling torch-1.7.1+cu101:\n",
            "      Successfully uninstalled torch-1.7.1+cu101\n",
            "Successfully installed torch-1.4.0\n"
          ],
          "name": "stdout"
        }
      ]
    },
    {
      "cell_type": "code",
      "metadata": {
        "id": "HKJE-KG2evpC",
        "colab": {
          "base_uri": "https://localhost:8080/",
          "height": 164,
          "referenced_widgets": [
            "e287f46b8d4c4c48a79f04890162aa56",
            "4c15dad219c44514aa87bebe4aab2808",
            "b4bba42422744fe9b79f3de828a399ef",
            "649a74c5cbef488d9529574eb7cb8d0d",
            "e5ba1796fa864e58a79b1c59881b818b",
            "af5a756130234414b45e312a1334fa77",
            "aa53750e27214e02ace668c977f3448a",
            "ea56988af3514d30ad6fe00698b36437",
            "689c8b2263674e53bdb8481652efcdc7",
            "4582492910494789ba63697937af8d27",
            "236bff235af148188f6f2a75b9cca524",
            "815d5ea09ca04e53a47788910404b47a",
            "9dccc0b9e9e4416e8a9bc6614bbf3d57",
            "e9d8e4d877794bfe99f924048182ce2e",
            "77dcd8209a2d42c583b5a5a8fbb69f64",
            "c279a2199c2647c4bc29f1166c4344f9",
            "82eec7835790463cb3429ee2dc21280d",
            "54c78dd6911544b68ffd4a01bf72b33a",
            "66ea7c8200f448979b9b723954a9e03d",
            "80b86d80f26d476c9e17e3af3b0456de",
            "7c66742d98fa4f32806272d6615e195d",
            "9f50d4e68cfc48deb07e5c12b9b5dc85",
            "4009c69c977142a2a264def7a58fbc26",
            "c0d60e9d53764be6a1d7d8a4181090ce"
          ]
        },
        "outputId": "630edbb6-26f0-4fef-efd0-4394a8fd91a8"
      },
      "source": [
        "import torch\n",
        "import json \n",
        "from transformers import T5Tokenizer, T5ForConditionalGeneration, T5Config\n",
        "\n",
        "model = T5ForConditionalGeneration.from_pretrained('t5-small')\n",
        "tokenizer = T5Tokenizer.from_pretrained('t5-small')\n",
        "device = torch.device('cpu')\n",
        "\n",
        "\n",
        "\n",
        "# Summarized output from above ::::::::::\n",
        "# the us has over 637,000 confirmed Covid-19 cases and over 30,826 deaths. \n",
        "# president Donald Trump predicts some states will reopen the country in april, he said. \n",
        "# \"we'll be the comeback kids, all of us,\" the president says."
      ],
      "execution_count": null,
      "outputs": [
        {
          "output_type": "display_data",
          "data": {
            "application/vnd.jupyter.widget-view+json": {
              "model_id": "e287f46b8d4c4c48a79f04890162aa56",
              "version_minor": 0,
              "version_major": 2
            },
            "text/plain": [
              "HBox(children=(FloatProgress(value=0.0, description='Downloading', max=1197.0, style=ProgressStyle(description…"
            ]
          },
          "metadata": {
            "tags": []
          }
        },
        {
          "output_type": "stream",
          "text": [
            "\n"
          ],
          "name": "stdout"
        },
        {
          "output_type": "display_data",
          "data": {
            "application/vnd.jupyter.widget-view+json": {
              "model_id": "689c8b2263674e53bdb8481652efcdc7",
              "version_minor": 0,
              "version_major": 2
            },
            "text/plain": [
              "HBox(children=(FloatProgress(value=0.0, description='Downloading', max=242065649.0, style=ProgressStyle(descri…"
            ]
          },
          "metadata": {
            "tags": []
          }
        },
        {
          "output_type": "stream",
          "text": [
            "\n"
          ],
          "name": "stdout"
        },
        {
          "output_type": "display_data",
          "data": {
            "application/vnd.jupyter.widget-view+json": {
              "model_id": "82eec7835790463cb3429ee2dc21280d",
              "version_minor": 0,
              "version_major": 2
            },
            "text/plain": [
              "HBox(children=(FloatProgress(value=0.0, description='Downloading', max=791656.0, style=ProgressStyle(descripti…"
            ]
          },
          "metadata": {
            "tags": []
          }
        },
        {
          "output_type": "stream",
          "text": [
            "\n"
          ],
          "name": "stdout"
        }
      ]
    },
    {
      "cell_type": "code",
      "metadata": {
        "id": "pbcOZmkufU6Z"
      },
      "source": [
        "import pandas as pd\n",
        "df = pd.read_csv(\"proactiveinvestors.csv\")"
      ],
      "execution_count": null,
      "outputs": []
    },
    {
      "cell_type": "code",
      "metadata": {
        "colab": {
          "base_uri": "https://localhost:8080/"
        },
        "id": "QbRGXKtrW37t",
        "outputId": "ab4ddbcd-3d6d-4e2d-9600-ffd59f3e6fdc"
      },
      "source": [
        "yello = []\n",
        "for text in df['text']:\n",
        "  if len(text.split())<=100 : \n",
        "    yello.append(text)\n",
        "  else:\n",
        "    preprocess_text = text.strip().replace(\"\\n\",\"\")\n",
        "    t5_prepared_Text = \"summarize: \"+preprocess_text\n",
        "    print (\"original text preprocessed: \\n\", preprocess_text)\n",
        "\n",
        "    tokenized_text = tokenizer.encode(t5_prepared_Text, return_tensors=\"pt\").to(device)\n",
        "\n",
        "\n",
        "    # summmarize \n",
        "    summary_ids = model.generate(tokenized_text,\n",
        "                                        num_beams=4,\n",
        "                                        no_repeat_ngram_size=2,\n",
        "                                        min_length=30,\n",
        "                                        max_length=100,\n",
        "                                        early_stopping=True)\n",
        "\n",
        "    output = tokenizer.decode(summary_ids[0], skip_special_tokens=True)\n",
        "\n",
        "    print (\"\\n\\nSummarized text: \\n\",output)\n",
        "    yello.append(output)"
      ],
      "execution_count": null,
      "outputs": [
        {
          "output_type": "stream",
          "text": [
            "original text preprocessed: \n",
            " Kanabo Research Ltd, a maker of vaporisation and inhalation technology for cannabis, is poised to become the first cannabis company to list on the London Stock Exchange when it performs an initial public offering (IPO) on Tuesday.The Israeli company is set to list on the market through a reverse takeover of Spinnaker Opportunities Plc (LON:SOP) after the transaction was approved by shareholders last week. The listing also follows a move by the Financial Conduct Authority (FCA) last year to allow medical, but not recreational, cannabis companies to list on the London market after medicinal use of the drug was legalised in the UK in 2018.In an IPO prospectus published on January 29, Kanabo said it has raised £6mln through the issue of around 92.3mln shares at a price of 6.5p each, while Spinnaker plans to change its name to Kanabo Group PLC once the reverse takeover is completed.The company is also expected to list on the LSE will a market value of around £23.2mln, while the £6mln raised will be used to fund its growth strategy going forward.\"I believe the UK and Europe are ready to embrace the benefits of medicinal cannabis and the overwhelming support and interest from investors has proved this. The roadshow was oversubscribed and this will help the company grow and create value faster than previously expected\", Kanabo chief executive Avihu Tamir said in the company’s prospectus on January 29.While it may be the first cannabis firm to IPO on the LSE, Kanabo will not be the only company in the space looking to draw the eye of London’s investors.Other companies, such as dual-listed phytocannabinoid derived medicines group MGC Pharmaceuticals (LON:MXC) and Aquis-listed CBD products firm Sativa Wellness Group Inc (LON:SWEL), are already looking to tap surging investor interest in the global legal cannabis market, which is expected to be worth around US$65bn by 2027 compared to around US$17.5bn at the end of 2020.\n",
            "\n",
            "\n",
            "Summarized text: \n",
            " the Israeli company is set to list on the market through a reverse takeover of spinnaker Opportunities Plc (LON:SOP) after the transaction was approved by shareholders last week. the listing also follows an move by the Financial Conduct Authority (FCA) last year to allow medical, but not recreational, cannabis companies to listed on London market after medicinal use of the drug was legalised in the UK in 2018.in an IPO prospectus published on January 29, Kan\n",
            "original text preprocessed: \n",
            " Made.com is reportedly considering a market listing that would value the online furniture retailer at £500mln.The firm is in talks with banks over strategic options, which include a flotation, selling a stake to a new investor or the sale of the whole group.READ: Beckham-backed Cellular Goods opens IPO floodgates in lively month for marketsIt could be valued at £500mln and upwards, potentially close to £1bn, Sky News reported.The firm was launched in 2010 by Ning Li, Brent Hoberman, Julien Callede and Chloe Macintosh with £2.5mln in funding and made £212mln in sales in 2019.Hoberman is also one of the co-founders of travel operator Lastminute.com.Several companies have recently made plans to float in London, including Beckham-backed cannabis firm Cellular Goods and wine seller Virgin Wines, while card retailer Moonpig (LON:MOON) and bootmaker Dr Martens (LON:DOCS) have started trading this month.\n"
          ],
          "name": "stdout"
        },
        {
          "output_type": "stream",
          "text": [
            "Token indices sequence length is longer than the specified maximum sequence length for this model (538 > 512). Running this sequence through the model will result in indexing errors\n"
          ],
          "name": "stderr"
        },
        {
          "output_type": "stream",
          "text": [
            "\n",
            "\n",
            "Summarized text: \n",
            " made.com is reportedly considering a market listing that would value the online furniture retailer at £500mln. the firm is in talks with banks over strategic options including flotation, selling stake to new investor or the sale of the whole group.\n",
            "original text preprocessed: \n",
            " Cybersecurity firm Darktrace is continuing to target a £4bn London initial public offer (IPO) despite broker UBS quitting the cybersecurity firm's proposed float for compliance reasons.The Swiss bank has reportedly told Darktrace that its compliance department would not allow necessary suspicious activity reports (SARs) to be signed off.It comes amidst scrutiny over the company’s ties to British tech billionaire Mike Lynch.The Swiss bank had been working on the market listing alongside Jefferies since November.Previously, according to Sky News in September, Goldman Sachs ruled itself out of a role in the IPO due to potential legal ramifications.Lynch, a founding investor in Darktrace and a former director, is presently facing possible extradition to the United States where he has been charged with 17 counts of securities and wire fraud.It follows a £3.8bn UK civil fraud case related to his former company Autonomy which was bought by Hewlett Packard for £8.4bn in 2011 (HP subsequently wrote down US$8.8bn in connection to the acquired business, alleging accounting irregularities).Lynch left the Darktrace board in 2018 and he retains an interest in the company via his investment fund Invoke Capital, one of the largest stakeholders in the pre-IPO group.According to Sky News today, a source close to Darktrace has called the Swiss bank’s resignation “a UBS issue, not a Darktrace issue” meanwhile UBS declined to comment.Insiders at Darktrace were reported to say the IPO is still “firmly on-track” and highlighted encouraging initial indications of interest from investors.Jefferies now solely leads the London float which is expected to be backed by Berenberg and private-equity group KKR (which is already a major shareholder and has previously acquired shares from Invoke).Darktrace is an artificial intelligence-led cybersecurity group, founded by University of Cambridge mathematicians.Its technology, described as ‘pioneering’, is said to be able to identify a diverse range of threats including state-sponsored espionage at their earliest stages. The company’s clients include BT Group PLC, William Hill and US insurer AIG.The company is headquartered in San Francisco and Cambridge. It has some 1,500 employees across 44 offices across the world.\n",
            "\n",
            "\n",
            "Summarized text: \n",
            " cybersecurity firm Darktrace is continuing to target £4bn London initial public offer (IPO) despite broker UBS quitting cybersecurity firm's proposed float for compliance reasons. it comes amidst scrutiny over the company’s ties to tech billionaire Mike Lynch.\n",
            "original text preprocessed: \n",
            " Arix Bioscience PLC (LON:ARIX), the biotech-focused venture capital group, announced that its portfolio company Autolus Therapeutics announced the pricing of its IPO in the US.The biopharma, which is developing next-generation programmed T cell therapies, looks to raise US$100mln (£72mln) by placing 14mln American depositary shares (ADS) at US$7 each.READ: Arix Bioscience says its managing director to depart for new postAll ADSs sold in the offering were offered by Autolus, which has granted the underwriters a 30-day option to purchase up to an additional 2mln ADSs at the public offering price.The offering is expected to close on Friday, after which Arix will hold a 5.1% stake in Altus.\n",
            "\n",
            "\n",
            "Summarized text: \n",
            " the biopharma is developing next-generation programmed T cell therapies. the offering is expected to close on Friday, after which Arix will hold a 5.1% stake in Altus.\n",
            "original text preprocessed: \n",
            " Auction Technology Group (ATG) has said it will raise £250mln next month when it lists in London with a value of around £600mln.Acquired last year by US private equity TA Associates, business has boomed as Brits have been stuck indoors during lockdown.The company runs the eponymous Auction Trade Gazette and websites such as the BBC’s Bargain Hunt and thesalesroom.com as well as an online auction platform.In a statement today, ATG said it had already received commitments for £100mln from three cornerstone investors: Jupiter Asset Management, Caledonia, and Capital World Investors.Money raised during the IPO will pay off £130mln of preference shares with a further £120 earmarked for float costs and debt reduction.Chief executive John-Paul Savant said: The opportunities for ATG in the years ahead are considerable. The industry's structural shift from offline to online is still in its early stages. We also play a key role in the growing circular economy, facilitating the buying and selling of millions of second-hand items and promoting a less wasteful world.\"Now is the right time for us to go public. We have multiple levers for growth, centered on achieving maximum asset sale values for auctioneers and delivering the best online curated auction experience for bidders. We look forward to welcoming our new investors and beginning the next stage of our journey.\"Admission will likely take place in March 2021, said ATG, with the price set by a bookbuild exercise.London has already hosted several successful IPOs in 2021, with online card retailer Moonpig and iconic footwear group maker Dr Martens  both achieving hefty premiums to the sale price when trading got underway.\n",
            "\n",
            "\n",
            "Summarized text: \n",
            " auction Technology Group (ATG) has said it will raise £250mln next month. it lists in London with a value of around £600million - around £130million in preference shares and £120 earmarked for float costs and debt reduction. the company runs the eponymous Auction Trade Gazette and websites such as the BBC’s Bargain Hunt and thesalesroom.com as well as an online auction platform.\n",
            "original text preprocessed: \n",
            " American Resources Corporation (NASDAQ:AREC), a raw materials supplier, announced Friday that American Acquisition Opportunity Inc (AAOI), a special purpose acquisition company (SPAC) the company is indirectly invested in, has filed with the SEC, to undergo an IPO of its units. AAOI will target a platform-building acquisition in the landholdings and resources industry that generates current revenues from its legacy industries, the company said, with a predominant focus on natural resources.  The SPAC’s goal is to look beyond the target’s current business model and pursue a growth industry of clean energies, social impact and new industries, such as recycling and redevelopment, the company said. READ: American Resources says that, with the addition of Hasler Ventures, it has licensed ligand assisted displacement (LAD) chromatography patentsThe proposed public offering is expected to have a base size of $100 million, which could jump to as high as $115 million if the underwriters fully exercise their overallotment option. AAOI will be managed by the company's management team, the company added. American Resources is a next-generation, environmentally and socially responsible supplier of high-quality raw materials to the new infrastructure market. The company is focused on the extraction and processing of metallurgical carbon, an essential ingredient used in steelmaking, critical and rare earth minerals for the electrification market, and reprocessed metal to be recycled.It has a growing portfolio of operations located in the Central Appalachian basin of eastern Kentucky and southern West Virginia, where premium quality metallurgical carbon and rare earth mineral deposits are concentrated.Contact Andrew Kessel at andrew.kessel@proactiveinvestors.comFollow him on Twitter @andrew_kessel\n",
            "\n",
            "\n",
            "Summarized text: \n",
            " American Resources is a next-generation, environmentally and socially responsible supplier of high-quality raw materials to the new infrastructure market. the company is focused on the extraction and processing of metallurgical carbon, an essential ingredient used in steelmaking, critical and rare earth minerals for the electrification market, and reprocessed metal to be recycled.\n",
            "original text preprocessed: \n",
            " SoftBank Group Corp is expected to see further recovery in its earnings when it delivers its third quarter results on Monday as a rally of tech shares in its portfolio and a fertile environment for initial public offerings (IPOs).A Reuters report on Thursday said the Japanese conglomerate is expected to report a net profit for the quarter to December of around 171bn Japanese yen (US$1.63bn), according to analyst estimates, up from around 55bn yen (US$521.7mln) a year ago when the company suffered heavy losses on several investments including office sharing company WeWork through its Vision Fund.However, since then the company has been bolstered by a rally in various tech shares in its portfolio such as Uber Technologies Inc (NYSE:UBER), while other firms backed by its Vision Fund such as food delivery app DoorDash Inc (NYSE:DASH) and Tokyo-listed property sale platform Open Door Inc went public to much fanfare in December.SoftBank is also expected to make use of special purpose investment companies (SPACs) to raise additional cash, while investors may also be eyeing the performance of the company’s new trading unit SB Northstar, which uses the company’s cash to buy public stocks.The company will also be looking to continue its diversification away from its most successful investment, Chinese ecommerce giant Alibaba Group Holding Ltd (NYSE:BABA), after shares in the company took a hit last year as Chinese regulators blocked the IPO of its affiliate financial tech business Ant Group.\n",
            "\n",
            "\n",
            "Summarized text: \n",
            " SoftBank is expected to report a net profit for the quarter to December of around 171bn Japanese yen. the company suffered heavy losses on several investments including office sharing company WeWork through its vision fund - up from around 55billion Yen (US$521.7mln) he has also been bolstered by an rally in various tech shares in its portfolio such as Uber Technologies Inc (NYSE:UBER) and open door Inc\n",
            "original text preprocessed: \n",
            " Syncona Limited (LON:SYNC) has told investors that its portfolio company Achilles Therapeutics expects to consider additional capital raise options this year, including a potential IPO in the United States.Timing and terms have yet to be determined and would be subject to market conditions, it added.This statement comes as Achilles announced that an Independent Data and Safety Monitoring Committee (IDSMC) has completed its first review of the ongoing, first-in-human Phase I/II CHIRON and THETIS trials.The committee recommendation allows both the clinical trials to continue as planned.It was a review of the first six patients dosed with the company's Clonal Neoantigen Targeting T cell therapy (cNeTs).The review observed that the overall tolerability profile was similar to that of standard tumor-infiltrating lymphocyte (TIL) products that have not been enriched for cNeT reactivities, with the lymphodepletion regimen accounting for most higher-grade adverse events.Additionally, initial data from the first six patients provide encouraging evidence of cNeT engraftment. Based on these observations, the company plans to increase the administered cNeT doses in the next series of monotherapy patients.\"This independent safety review along with the initial data from our CHIRON and THETIS trials are promising and are based on patients that have been dosed with cNeTs at the lower end of our prospectively targeted therapeutic dose range,\" said Achilles chief executive Dr Iraj Ali in a statement.\"We now plan to move to higher cNeT doses and also open a combination cohort in the THETIS trial evaluating the addition of nivolumab, a PD-1 inhibitor, following cNeT infusion, subject to further safety review.\"Achilles is a clinical-stage biopharmaceutical company developing precision T cell therapies to treat solid tumors.\n"
          ],
          "name": "stdout"
        }
      ]
    },
    {
      "cell_type": "code",
      "metadata": {
        "id": "pbJDKh9nW5j-"
      },
      "source": [
        "yello"
      ],
      "execution_count": null,
      "outputs": []
    },
    {
      "cell_type": "code",
      "metadata": {
        "id": "RCnrRW2Eal1G"
      },
      "source": [
        "len(yello),len(df['text'])"
      ],
      "execution_count": null,
      "outputs": []
    },
    {
      "cell_type": "code",
      "metadata": {
        "id": "egiDRZ2Fao_N"
      },
      "source": [
        "df['summary'] = yello"
      ],
      "execution_count": null,
      "outputs": []
    },
    {
      "cell_type": "code",
      "metadata": {
        "id": "EvrTI3k_awvX"
      },
      "source": [
        "df"
      ],
      "execution_count": null,
      "outputs": []
    },
    {
      "cell_type": "code",
      "metadata": {
        "id": "ZRwm4tmjax69"
      },
      "source": [
        "df.to_csv(\"proactivesummary.csv\")"
      ],
      "execution_count": null,
      "outputs": []
    },
    {
      "cell_type": "code",
      "metadata": {
        "id": "j0I8pySja9hS"
      },
      "source": [
        ""
      ],
      "execution_count": null,
      "outputs": []
    }
  ]
}